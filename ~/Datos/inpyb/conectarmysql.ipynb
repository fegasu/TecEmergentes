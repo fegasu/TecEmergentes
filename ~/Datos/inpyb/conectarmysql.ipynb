{
 "cells": [
  {
   "cell_type": "markdown",
   "id": "4d7cd7ed",
   "metadata": {},
   "source": [
    "# IMPORTAMOS LAS LIBRERIAS"
   ]
  },
  {
   "cell_type": "code",
   "execution_count": 3,
   "id": "03ce6c88",
   "metadata": {},
   "outputs": [],
   "source": [
    "import mysql.connector\n",
    "import pandas as pd"
   ]
  },
  {
   "cell_type": "markdown",
   "id": "ee8c86ac",
   "metadata": {},
   "source": [
    "# CONECTAR A MYSQL"
   ]
  },
  {
   "cell_type": "code",
   "execution_count": 4,
   "id": "d761737c",
   "metadata": {},
   "outputs": [],
   "source": [
    "conn=mysql.connector.connect(\n",
    "host=\"localhost\",\n",
    "user=\"root\",\n",
    "password=\"\",\n",
    "database=\"hr\"\n",
    ")"
   ]
  },
  {
   "cell_type": "markdown",
   "id": "afef253d",
   "metadata": {},
   "source": [
    "# CREAR UN CURSOR"
   ]
  },
  {
   "cell_type": "code",
   "execution_count": 5,
   "id": "a49ae607",
   "metadata": {},
   "outputs": [],
   "source": [
    "cursor=conn.cursor()"
   ]
  },
  {
   "cell_type": "markdown",
   "id": "686cbede",
   "metadata": {},
   "source": [
    "# SE CREA LA CONSULTA "
   ]
  },
  {
   "cell_type": "code",
   "execution_count": 6,
   "id": "0ce0f36b",
   "metadata": {},
   "outputs": [],
   "source": [
    "sql=\"select * from employees\"\n"
   ]
  },
  {
   "cell_type": "markdown",
   "id": "038feb47",
   "metadata": {},
   "source": [
    "# SE EJECUTA LA CONSULTA"
   ]
  },
  {
   "cell_type": "code",
   "execution_count": 7,
   "id": "0e2e9e1a",
   "metadata": {},
   "outputs": [],
   "source": [
    "cursor.execute(sql)"
   ]
  },
  {
   "cell_type": "markdown",
   "id": "ecdb7f59",
   "metadata": {},
   "source": [
    "# SE CARGAN LOS DATOS EN EL DATAFRAME RESULTADO"
   ]
  },
  {
   "cell_type": "code",
   "execution_count": 8,
   "id": "bf0679d6",
   "metadata": {},
   "outputs": [],
   "source": [
    "resultado=pd.DataFrame(cursor.fetchall())"
   ]
  },
  {
   "cell_type": "markdown",
   "id": "5d6e2674",
   "metadata": {},
   "source": [
    "# SE IMPRIME EL DATAFRAME RESULTADO"
   ]
  },
  {
   "cell_type": "code",
   "execution_count": 9,
   "id": "d0275aff",
   "metadata": {},
   "outputs": [
    {
     "name": "stdout",
     "output_type": "stream",
     "text": [
      "      0          1        2         3               4           5   \\\n",
      "0    100     Steven     King     SKING    515.123.4567  1987-06-17   \n",
      "1    101      Neena  Kochhar  NKOCHHAR    515.123.4568  1989-09-21   \n",
      "2    102        Lex  De Haan   LDEHAAN    515.123.4569  1993-01-13   \n",
      "3    103  Alexander   Hunold   AHUNOLD    590.423.4567  1990-01-03   \n",
      "4    104      Bruce    Ernst    BERNST    590.423.4568  1991-05-21   \n",
      "..   ...        ...      ...       ...             ...         ...   \n",
      "102  202        Pat      Fay      PFAY    603.123.6666  1997-08-17   \n",
      "103  203      Susan   Mavris   SMAVRIS    515.123.7777  1994-06-07   \n",
      "104  204    Hermann     Baer     HBAER    515.123.8888  1994-06-07   \n",
      "105  205    Shelley  Higgins  SHIGGINS    515.123.8080  1994-06-07   \n",
      "106  206    William    Gietz    WGIETZ  51hr5.123.8181  1994-06-07   \n",
      "\n",
      "             6         7     8      9      10  \n",
      "0       AD_PRES  24000.00  None    NaN   90.0  \n",
      "1         AD_VP  17000.00  None  100.0   90.0  \n",
      "2         AD_VP  17000.00  None  100.0   90.0  \n",
      "3       IT_PROG   9000.00  None  102.0   60.0  \n",
      "4       IT_PROG   6000.00  None  103.0   60.0  \n",
      "..          ...       ...   ...    ...    ...  \n",
      "102      MK_REP   6000.00  None  201.0   20.0  \n",
      "103      HR_REP   6500.00  None  101.0   40.0  \n",
      "104      PR_REP  10000.00  None  101.0   70.0  \n",
      "105      AC_MGR  12000.00  None  101.0  110.0  \n",
      "106  AC_ACCOUNT   8300.00  None  205.0  110.0  \n",
      "\n",
      "[107 rows x 11 columns]\n"
     ]
    }
   ],
   "source": [
    "print(resultado)"
   ]
  },
  {
   "cell_type": "code",
   "execution_count": null,
   "id": "03d85b17",
   "metadata": {},
   "outputs": [],
   "source": []
  }
 ],
 "metadata": {
  "kernelspec": {
   "display_name": "Python 3 (ipykernel)",
   "language": "python",
   "name": "python3"
  },
  "language_info": {
   "codemirror_mode": {
    "name": "ipython",
    "version": 3
   },
   "file_extension": ".py",
   "mimetype": "text/x-python",
   "name": "python",
   "nbconvert_exporter": "python",
   "pygments_lexer": "ipython3",
   "version": "3.10.9"
  }
 },
 "nbformat": 4,
 "nbformat_minor": 5
}
