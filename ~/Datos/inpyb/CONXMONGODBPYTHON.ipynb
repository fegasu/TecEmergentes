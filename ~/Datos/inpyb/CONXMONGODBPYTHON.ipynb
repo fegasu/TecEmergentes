{
 "cells": [
  {
   "cell_type": "markdown",
   "id": "21e4394e",
   "metadata": {},
   "source": [
    "# LIBRERIAS PARA CONECTA CON MONGODB"
   ]
  },
  {
   "cell_type": "code",
   "execution_count": 11,
   "id": "151dbef4",
   "metadata": {},
   "outputs": [],
   "source": [
    "# !pip install pymongo\n",
    "import pymongo\n",
    "from pymongo import MongoClient"
   ]
  },
  {
   "cell_type": "markdown",
   "id": "dff19488",
   "metadata": {},
   "source": [
    "# CADENA DE CONEXION"
   ]
  },
  {
   "cell_type": "code",
   "execution_count": 12,
   "id": "678c3ecf",
   "metadata": {},
   "outputs": [],
   "source": [
    "scnx=\"mongodb://localhost:27017\""
   ]
  },
  {
   "cell_type": "markdown",
   "id": "eb225f39",
   "metadata": {},
   "source": [
    "# CONEXION CON MONGODB"
   ]
  },
  {
   "cell_type": "code",
   "execution_count": 13,
   "id": "de794604",
   "metadata": {},
   "outputs": [],
   "source": [
    "cliente=MongoClient(scnx)"
   ]
  },
  {
   "cell_type": "markdown",
   "id": "eecd99f1",
   "metadata": {},
   "source": [
    "# SE CREA LA BD TITULADA"
   ]
  },
  {
   "cell_type": "code",
   "execution_count": 14,
   "id": "e307e7f4",
   "metadata": {},
   "outputs": [],
   "source": [
    "db=cliente[\"titulada\"]"
   ]
  },
  {
   "cell_type": "markdown",
   "id": "7a8e793f",
   "metadata": {},
   "source": [
    "# SE CREA LA COLECCION EMP"
   ]
  },
  {
   "cell_type": "code",
   "execution_count": 15,
   "id": "5591fb88",
   "metadata": {},
   "outputs": [],
   "source": [
    "coleccion=db[\"emp\"]"
   ]
  },
  {
   "cell_type": "markdown",
   "id": "381964bf",
   "metadata": {},
   "source": [
    "# INSERTAR UN SOLO DOCUMENTO"
   ]
  },
  {
   "cell_type": "code",
   "execution_count": 16,
   "id": "7a933dea",
   "metadata": {},
   "outputs": [],
   "source": [
    "emp1={\n",
    "    \"aprendizid\":3,\n",
    "    \"nombre\":\"Maria la Bandida\",\n",
    "    \"edad\":16,\n",
    "    \"genero\":\"F\"\n",
    "}"
   ]
  },
  {
   "cell_type": "code",
   "execution_count": 17,
   "id": "e87ea31b",
   "metadata": {},
   "outputs": [
    {
     "data": {
      "text/plain": [
       "<pymongo.results.InsertOneResult at 0x2266af65480>"
      ]
     },
     "execution_count": 17,
     "metadata": {},
     "output_type": "execute_result"
    }
   ],
   "source": [
    "db.emp.insert_one(emp1)"
   ]
  },
  {
   "cell_type": "markdown",
   "id": "5221e918",
   "metadata": {},
   "source": [
    "# INSERTAR MAS DE UN DOCUMENTO"
   ]
  },
  {
   "cell_type": "code",
   "execution_count": 18,
   "id": "d29ae8e0",
   "metadata": {},
   "outputs": [
    {
     "data": {
      "text/plain": [
       "<pymongo.results.InsertManyResult at 0x2266d56d1e0>"
      ]
     },
     "execution_count": 18,
     "metadata": {},
     "output_type": "execute_result"
    }
   ],
   "source": [
    "db.emp.insert_many(\n",
    "[\n",
    " {\n",
    "    \"aprendizid\":4,\n",
    "    \"nombre\":\"Rosa M. Rico\",\n",
    "    \"edad\":32,\n",
    "    \"genero\":\"F\"\n",
    "} ,  \n",
    " {\n",
    "    \"aprendizid\":5,\n",
    "    \"nombre\":\"Simon Tolomeo\",\n",
    "    \"edad\":24,\n",
    "    \"genero\":\"M\"\n",
    "}   \n",
    "]\n",
    ")"
   ]
  },
  {
   "cell_type": "markdown",
   "id": "55423884",
   "metadata": {},
   "source": [
    "# CONSULTAMOS TODOS LOS DOCUMENTOS"
   ]
  },
  {
   "cell_type": "code",
   "execution_count": 24,
   "id": "d67f80b7",
   "metadata": {},
   "outputs": [],
   "source": [
    "a=db.emp.find()"
   ]
  },
  {
   "cell_type": "markdown",
   "id": "8bc6a3f5",
   "metadata": {},
   "source": [
    "# LISTAMOS TODOS LO DOCUMENTOS DE LA CATEGORIA EMP"
   ]
  },
  {
   "cell_type": "code",
   "execution_count": 25,
   "id": "4c8d0267",
   "metadata": {},
   "outputs": [
    {
     "name": "stdout",
     "output_type": "stream",
     "text": [
      "3 Maria la Bandida 16 F\n",
      "4 Rosa M. Rico 32 F\n",
      "5 Simon Tolomeo 24 M\n"
     ]
    }
   ],
   "source": [
    "for x in a:\n",
    "    print(x[\"aprendizid\"],x[\"nombre\"],x[\"edad\"],x[\"genero\"])"
   ]
  },
  {
   "cell_type": "code",
   "execution_count": null,
   "id": "25b8fea3",
   "metadata": {},
   "outputs": [],
   "source": []
  }
 ],
 "metadata": {
  "kernelspec": {
   "display_name": "Python 3 (ipykernel)",
   "language": "python",
   "name": "python3"
  },
  "language_info": {
   "codemirror_mode": {
    "name": "ipython",
    "version": 3
   },
   "file_extension": ".py",
   "mimetype": "text/x-python",
   "name": "python",
   "nbconvert_exporter": "python",
   "pygments_lexer": "ipython3",
   "version": "3.10.9"
  }
 },
 "nbformat": 4,
 "nbformat_minor": 5
}
