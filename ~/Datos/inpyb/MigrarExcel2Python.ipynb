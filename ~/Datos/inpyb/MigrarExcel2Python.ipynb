{
 "cells": [
  {
   "cell_type": "markdown",
   "id": "1da2fb34",
   "metadata": {},
   "source": [
    "# IMPORTAR LIBRERIAS"
   ]
  },
  {
   "cell_type": "code",
   "execution_count": 23,
   "id": "29ef12d0",
   "metadata": {},
   "outputs": [],
   "source": [
    "import xlrd\n",
    "import mysql.connector\n",
    "import pandas as pd"
   ]
  },
  {
   "cell_type": "markdown",
   "id": "6b5e8ab5",
   "metadata": {},
   "source": [
    "# ANTE DE CONECTAR CREAR LA BD NEPTUNO\n",
    "## create database neptuno;"
   ]
  },
  {
   "cell_type": "markdown",
   "id": "55112b82",
   "metadata": {},
   "source": [
    "# CONECTAR A MYSQL"
   ]
  },
  {
   "cell_type": "code",
   "execution_count": 7,
   "id": "8ca3fb0e",
   "metadata": {},
   "outputs": [],
   "source": [
    "conn=mysql.connector.connect(\n",
    "host=\"localhost\",\n",
    "user=\"root\",\n",
    "password=\"\",\n",
    "database=\"neptuno\"\n",
    ")"
   ]
  },
  {
   "cell_type": "markdown",
   "id": "bbad5454",
   "metadata": {},
   "source": [
    "# CREAR UN CURSOR"
   ]
  },
  {
   "cell_type": "code",
   "execution_count": 9,
   "id": "e6c3ab58",
   "metadata": {},
   "outputs": [],
   "source": [
    "cursor=conn.cursor()"
   ]
  },
  {
   "cell_type": "code",
   "execution_count": 14,
   "id": "5ca53b79",
   "metadata": {},
   "outputs": [],
   "source": [
    "sql=\"CREATE TABLE IF NOT EXISTS CATEGORIA(IDCATEGORIA INTEGER PRIMARY KEY, NOMBRECATEGORIA TEXT, DESCRIPCION TEXT)\"\n",
    "#SE EJECUTA LA CONSULTA\n",
    "cursor.execute(sql)"
   ]
  },
  {
   "cell_type": "markdown",
   "id": "393d164a",
   "metadata": {},
   "source": [
    "# CARGAR EL LIBRO EXCEL Y LA HOJA CTEGORIAS\n",
    "https://github.com/fegasu/tcprogAnalitica/blob/main/DATASET/Neptuno.xlsx"
   ]
  },
  {
   "cell_type": "code",
   "execution_count": 13,
   "id": "7411ebed",
   "metadata": {},
   "outputs": [],
   "source": [
    "x=pd.read_excel(\"c:/Borrar/Neptuno.xlsx\",sheet_name=\"Categorías\")"
   ]
  },
  {
   "cell_type": "markdown",
   "id": "ea6e587d",
   "metadata": {},
   "source": [
    "# CARGAR EL NOMBRE DE LAS COLUMNAS DEL DATAFRAME X"
   ]
  },
  {
   "cell_type": "code",
   "execution_count": 15,
   "id": "d815b695",
   "metadata": {},
   "outputs": [],
   "source": [
    "k=[]\n",
    "for i in x:\n",
    "    k.append(i)"
   ]
  },
  {
   "cell_type": "markdown",
   "id": "f84d79db",
   "metadata": {},
   "source": [
    "# CARGAMOS EN LOS VECTORES Z0,Z1,Z2 LAS COLUMNAS 0,1,2 EN X"
   ]
  },
  {
   "cell_type": "code",
   "execution_count": 16,
   "id": "e2937040",
   "metadata": {},
   "outputs": [],
   "source": [
    "z0=x[k[0]]\n",
    "z1=x[k[1]]\n",
    "z2=x[k[2]]"
   ]
  },
  {
   "cell_type": "markdown",
   "id": "734ab8eb",
   "metadata": {},
   "source": [
    "# GUARDAMOS EN J EL TOTAL DE FILAS\n",
    "## IMPRIMIMOS"
   ]
  },
  {
   "cell_type": "code",
   "execution_count": 19,
   "id": "9f7f4526",
   "metadata": {},
   "outputs": [
    {
     "name": "stdout",
     "output_type": "stream",
     "text": [
      "Filas: 8\n"
     ]
    }
   ],
   "source": [
    "j=len(x)\n",
    "print(\"Filas:\",j)"
   ]
  },
  {
   "cell_type": "code",
   "execution_count": 21,
   "id": "9b3a0d24",
   "metadata": {},
   "outputs": [],
   "source": [
    "i=0\n",
    "while i<j:\n",
    "    sql=\"insert into categoria(idcategoria,nombrecategoria,descripcion) values(%s,%s,%s)\"\n",
    "    sql1=(int(z0[i]),z1[i],z2[i])\n",
    "    i=i+1\n",
    "    cursor.execute(sql,sql1)\n",
    "    conn.commit()\n",
    "    "
   ]
  },
  {
   "cell_type": "code",
   "execution_count": 22,
   "id": "0da9800c",
   "metadata": {},
   "outputs": [],
   "source": [
    "conn.close()"
   ]
  },
  {
   "cell_type": "code",
   "execution_count": null,
   "id": "9a051406",
   "metadata": {},
   "outputs": [],
   "source": []
  }
 ],
 "metadata": {
  "kernelspec": {
   "display_name": "Python 3 (ipykernel)",
   "language": "python",
   "name": "python3"
  },
  "language_info": {
   "codemirror_mode": {
    "name": "ipython",
    "version": 3
   },
   "file_extension": ".py",
   "mimetype": "text/x-python",
   "name": "python",
   "nbconvert_exporter": "python",
   "pygments_lexer": "ipython3",
   "version": "3.10.9"
  }
 },
 "nbformat": 4,
 "nbformat_minor": 5
}
